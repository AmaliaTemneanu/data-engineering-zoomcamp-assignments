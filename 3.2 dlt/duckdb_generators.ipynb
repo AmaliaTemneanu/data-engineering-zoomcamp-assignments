{
  "cells": [
    {
      "cell_type": "markdown",
      "metadata": {
        "id": "mrTFv5nPClXh"
      },
      "source": [
        "# **Homework**: Data talks club data engineering zoomcamp Data loading workshop\n",
        "\n",
        "Hello folks, let's practice what we learned - Loading data with the best practices of data engineering.\n",
        "\n",
        "Here are the exercises we will do\n",
        "\n",
        "\n"
      ]
    },
    {
      "cell_type": "markdown",
      "metadata": {
        "id": "wLF4iXf-NR7t"
      },
      "source": [
        "# 1. Use a generator\n",
        "\n",
        "Remember the concept of generator? Let's practice using them to futher our understanding of how they work.\n",
        "\n",
        "Let's define a generator and then run it as practice.\n",
        "\n",
        "**Answer the following questions:**\n",
        "\n",
        "- **Question 1: What is the sum of the outputs of the generator for limit = 5?**\n",
        "- **Question 2: What is the 13th number yielded**\n",
        "\n",
        "I suggest practicing these questions without GPT as the purpose is to further your learning."
      ]
    },
    {
      "cell_type": "code",
      "execution_count": 2,
      "metadata": {
        "colab": {
          "base_uri": "https://localhost:8080/"
        },
        "id": "wLng-bDJN4jf",
        "outputId": "547683cb-5f56-4815-a903-d0d9578eb1f9"
      },
      "outputs": [
        {
          "name": "stdout",
          "output_type": "stream",
          "text": [
            "8.382332347441762\n"
          ]
        }
      ],
      "source": [
        "def square_root_generator(limit):\n",
        "    n = 1\n",
        "    while n <= limit:\n",
        "        yield n ** 0.5\n",
        "        n += 1\n",
        "\n",
        "# Example usage:\n",
        "limit = 5\n",
        "generator = square_root_generator(limit)\n",
        "\n",
        "s = 0\n",
        "for sqrt_value in generator:\n",
        "    s += sqrt_value\n",
        "\n",
        "print(s)"
      ]
    },
    {
      "cell_type": "code",
      "execution_count": 3,
      "metadata": {},
      "outputs": [
        {
          "name": "stdout",
          "output_type": "stream",
          "text": [
            "1.0\n",
            "1.4142135623730951\n",
            "1.7320508075688772\n",
            "2.0\n",
            "2.23606797749979\n",
            "2.449489742783178\n",
            "2.6457513110645907\n",
            "2.8284271247461903\n",
            "3.0\n",
            "3.1622776601683795\n",
            "3.3166247903554\n",
            "3.4641016151377544\n",
            "3.605551275463989\n"
          ]
        }
      ],
      "source": [
        "limit = 13\n",
        "generator = square_root_generator(limit)\n",
        "\n",
        "for sqrt_value in generator:\n",
        "    print(sqrt_value)"
      ]
    },
    {
      "cell_type": "markdown",
      "metadata": {
        "id": "xbe3q55zN43j"
      },
      "source": []
    },
    {
      "cell_type": "markdown",
      "metadata": {
        "id": "vjWhILzGJMpK"
      },
      "source": [
        "# 2. Append a generator to a table with existing data\n",
        "\n",
        "\n",
        "Below you have 2 generators. You will be tasked to load them to duckdb and answer some questions from the data\n",
        "\n",
        "1. Load the first generator and calculate the sum of ages of all people. Make sure to only load it once.\n",
        "2. Append the second generator to the same table as the first.\n",
        "3. **After correctly appending the data, calculate the sum of all ages of people.**\n",
        "\n",
        "\n"
      ]
    },
    {
      "cell_type": "code",
      "execution_count": 5,
      "metadata": {
        "colab": {
          "base_uri": "https://localhost:8080/"
        },
        "id": "2MoaQcdLBEk6",
        "outputId": "d2b93dc1-d83f-44ea-aeff-fdf51d75f7aa"
      },
      "outputs": [
        {
          "name": "stdout",
          "output_type": "stream",
          "text": [
            "{'ID': 1, 'Name': 'Person_1', 'Age': 26, 'City': 'City_A'}\n",
            "{'ID': 2, 'Name': 'Person_2', 'Age': 27, 'City': 'City_A'}\n",
            "{'ID': 3, 'Name': 'Person_3', 'Age': 28, 'City': 'City_A'}\n",
            "{'ID': 4, 'Name': 'Person_4', 'Age': 29, 'City': 'City_A'}\n",
            "{'ID': 5, 'Name': 'Person_5', 'Age': 30, 'City': 'City_A'}\n",
            "33\n",
            "34\n",
            "35\n",
            "36\n",
            "37\n",
            "38\n"
          ]
        }
      ],
      "source": [
        "def people_1():\n",
        "    for i in range(1, 6):\n",
        "        yield {\"ID\": i, \"Name\": f\"Person_{i}\", \"Age\": 25 + i, \"City\": \"City_A\"}\n",
        "\n",
        "for person in people_1():\n",
        "    print(person)\n",
        "\n",
        "\n",
        "def people_2():\n",
        "    for i in range(3, 9):\n",
        "        yield {\"ID\": i, \"Name\": f\"Person_{i}\", \"Age\": 30 + i, \"City\": \"City_B\", \"Occupation\": f\"Job_{i}\"}\n",
        "\n",
        "\n",
        "for person in people_2():\n",
        "    print(person['Age'])"
      ]
    },
    {
      "cell_type": "code",
      "execution_count": 9,
      "metadata": {},
      "outputs": [
        {
          "name": "stdout",
          "output_type": "stream",
          "text": [
            "Sum of ages from the first generator: 140\n",
            "Sum of ages after appending the second generator: 353\n"
          ]
        }
      ],
      "source": [
        "import duckdb\n",
        "import pandas as pd\n",
        "\n",
        "def people_1():\n",
        "    for i in range(1, 6):\n",
        "        yield {\"ID\": i, \"Name\": f\"Person_{i}\", \"Age\": 25 + i, \"City\": \"City_A\"}\n",
        "\n",
        "def people_2():\n",
        "    for i in range(3, 9):\n",
        "        yield {\"ID\": i, \"Name\": f\"Person_{i}\", \"Age\": 30 + i, \"City\": \"City_B\", \"Occupation\": f\"Job_{i}\"}\n",
        "\n",
        "# Initialize a DuckDB connection\n",
        "conn = duckdb.connect(database=':memory:', read_only=False)\n",
        "\n",
        "# Load data from the first generator into a DuckDB table\n",
        "people1_df = pd.DataFrame(people_1())\n",
        "conn.execute(\"CREATE TABLE people (ID INTEGER, Name VARCHAR, Age INTEGER, City VARCHAR)\")\n",
        "conn.execute(\"INSERT INTO people SELECT * FROM people1_df\")\n",
        "\n",
        "# Calculate the sum of ages from the first generator\n",
        "sum_of_ages_first_gen = conn.execute(\"SELECT SUM(Age) FROM people\").fetchone()[0]\n",
        "\n",
        "# Load data from the second generator and append it to the same DuckDB table\n",
        "# We will alter the table to add an Occupation column before inserting the second set of data\n",
        "people2_df = pd.DataFrame(people_2())\n",
        "conn.execute(\"ALTER TABLE people ADD COLUMN Occupation VARCHAR\")\n",
        "conn.execute(\"INSERT INTO people SELECT ID, Name, Age, City, Occupation FROM people2_df\")\n",
        "\n",
        "# Calculate the sum of all ages after appending the second generator\n",
        "sum_of_ages_after_append = conn.execute(\"SELECT SUM(Age) FROM people\").fetchone()[0]\n",
        "\n",
        "# Print out the results\n",
        "print(f\"Sum of ages from the first generator: {sum_of_ages_first_gen}\")\n",
        "print(f\"Sum of ages after appending the second generator: {sum_of_ages_after_append}\")\n",
        "\n",
        "# Don't forget to close the connection when done\n",
        "conn.close()\n"
      ]
    },
    {
      "cell_type": "markdown",
      "metadata": {
        "id": "vtdTIm4fvQCN"
      },
      "source": []
    },
    {
      "cell_type": "markdown",
      "metadata": {
        "id": "pY4cFAWOSwN1"
      },
      "source": [
        "# 3. Merge a generator\n",
        "\n",
        "Re-use the generators from Exercise 2.\n",
        "\n",
        "A table's primary key needs to be created from the start, so load your data to a new table with primary key ID.\n",
        "\n",
        "Load your first generator first, and then load the second one with merge. Since they have overlapping IDs, some of the records from the first load should be replaced by the ones from the second load.\n",
        "\n",
        "After loading, you should have a total of 8 records, and ID 3 should have age 33.\n",
        "\n",
        "Question: **Calculate the sum of ages of all the people loaded as described above.**\n"
      ]
    },
    {
      "cell_type": "code",
      "execution_count": 12,
      "metadata": {},
      "outputs": [
        {
          "name": "stdout",
          "output_type": "stream",
          "text": [
            "   ID      Name  Age    City Occupation\n",
            "0   1  Person_1   26  City_A       None\n",
            "1   2  Person_2   27  City_A       None\n",
            "2   3  Person_3   33  City_B      Job_3\n",
            "3   4  Person_4   34  City_B      Job_4\n",
            "4   5  Person_5   35  City_B      Job_5\n",
            "5   6  Person_6   36  City_B      Job_6\n",
            "6   7  Person_7   37  City_B      Job_7\n",
            "7   8  Person_8   38  City_B      Job_8\n",
            "Sum of ages after appending the second generator: 266\n"
          ]
        }
      ],
      "source": [
        "# Initialize a DuckDB connection\n",
        "conn = duckdb.connect(database=':memory:', read_only=False)\n",
        "\n",
        "# Create a new table with primary key ID\n",
        "conn.execute(\"\"\"\n",
        "    CREATE TABLE people (\n",
        "        ID INTEGER,\n",
        "        Name VARCHAR,\n",
        "        Age INTEGER,\n",
        "        City VARCHAR,\n",
        "        Occupation VARCHAR,\n",
        "        PRIMARY KEY (ID)\n",
        "    )\n",
        "\"\"\")\n",
        "\n",
        "# Load data from the first generator into the table\n",
        "people1_df = pd.DataFrame(people_1())\n",
        "conn.executemany(\"INSERT INTO people (ID, Name, Age, City) VALUES (?, ?, ?, ?)\", list(people1_df.itertuples(index=False, name=None)))\n",
        "\n",
        "# Load and merge data from the second generator into the table\n",
        "people2_df = pd.DataFrame(people_2())\n",
        "# Use INSERT INTO ... ON CONFLICT to replace records with the same ID\n",
        "for row in people2_df.itertuples(index=False, name=None):\n",
        "    conn.execute(\"INSERT INTO people (ID, Name, Age, City, Occupation) VALUES (?, ?, ?, ?, ?) ON CONFLICT (ID) DO UPDATE SET Name=excluded.Name, Age=excluded.Age, City=excluded.City, Occupation=excluded.Occupation\", row)\n",
        "\n",
        "# Verify the merge by selecting all records\n",
        "merged_data = conn.execute(\"SELECT * FROM people\").fetchdf()\n",
        "\n",
        "# Output the merged data\n",
        "print(merged_data)\n",
        "\n",
        "# Calculate the sum of all ages after appending the second generator\n",
        "sum_of_ages_after_append = conn.execute(\"SELECT SUM(Age) FROM people\").fetchone()[0]\n",
        "print(f\"Sum of ages after appending the second generator: {sum_of_ages_after_append}\")\n",
        "\n",
        "# Close the connection\n",
        "conn.close()"
      ]
    },
    {
      "cell_type": "markdown",
      "metadata": {
        "id": "kKB2GTB9oVjr"
      },
      "source": [
        "# Solution: First make sure that the following modules are installed:"
      ]
    },
    {
      "cell_type": "code",
      "execution_count": null,
      "metadata": {
        "id": "xTVvtyqrfVNq"
      },
      "outputs": [],
      "source": [
        "#Install the dependencies\n",
        "%%capture\n",
        "!pip install dlt[duckdb]"
      ]
    },
    {
      "cell_type": "markdown",
      "metadata": {
        "id": "PoTJu4kbGG0z"
      },
      "source": [
        "Questions? difficulties? We are here to help.\n",
        "- DTC data engineering course channel: https://datatalks-club.slack.com/archives/C01FABYF2RG\n",
        "- dlt's DTC cohort channel: https://dlthub-community.slack.com/archives/C06GAEX2VNX"
      ]
    }
  ],
  "metadata": {
    "colab": {
      "provenance": []
    },
    "kernelspec": {
      "display_name": "Python 3",
      "name": "python3"
    },
    "language_info": {
      "codemirror_mode": {
        "name": "ipython",
        "version": 3
      },
      "file_extension": ".py",
      "mimetype": "text/x-python",
      "name": "python",
      "nbconvert_exporter": "python",
      "pygments_lexer": "ipython3",
      "version": "3.9.6"
    }
  },
  "nbformat": 4,
  "nbformat_minor": 0
}
