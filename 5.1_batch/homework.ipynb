{
 "cells": [
  {
   "cell_type": "code",
   "execution_count": 6,
   "id": "8c1d0c08",
   "metadata": {},
   "outputs": [],
   "source": [
    "import pyspark\n",
    "from pyspark.sql import SparkSession\n",
    "import pandas as pd\n",
    "from pyspark.sql import types\n",
    "import os\n",
    "import glob"
   ]
  },
  {
   "cell_type": "code",
   "execution_count": 2,
   "id": "96a248f5",
   "metadata": {},
   "outputs": [
    {
     "name": "stderr",
     "output_type": "stream",
     "text": [
      "Setting default log level to \"WARN\".\n",
      "To adjust logging level use sc.setLogLevel(newLevel). For SparkR, use setLogLevel(newLevel).\n",
      "24/03/06 18:27:49 WARN NativeCodeLoader: Unable to load native-hadoop library for your platform... using builtin-java classes where applicable\n"
     ]
    },
    {
     "name": "stderr",
     "output_type": "stream",
     "text": [
      "24/03/06 18:28:02 WARN GarbageCollectionMetrics: To enable non-built-in garbage collector(s) List(G1 Concurrent GC), users should configure it(them) to spark.eventLog.gcMetrics.youngGenerationGarbageCollectors or spark.eventLog.gcMetrics.oldGenerationGarbageCollectors\n"
     ]
    }
   ],
   "source": [
    "spark = SparkSession.builder \\\n",
    "    .master(\"local[*]\") \\\n",
    "    .appName('test') \\\n",
    "    .getOrCreate()"
   ]
  },
  {
   "cell_type": "code",
   "execution_count": 10,
   "metadata": {},
   "outputs": [
    {
     "data": {
      "text/plain": [
       "'3.5.1'"
      ]
     },
     "execution_count": 10,
     "metadata": {},
     "output_type": "execute_result"
    }
   ],
   "source": [
    "spark.version"
   ]
  },
  {
   "cell_type": "code",
   "execution_count": 3,
   "metadata": {},
   "outputs": [],
   "source": [
    "df_pandas = pd.read_csv('/Users/amaliatemneanu/Documents/Projects/data-engineering-zoomcamp-assignments/5.1_batch/data/raw/fhv/2019/10/fhv_tripdata_2019_10.csv.gz')"
   ]
  },
  {
   "cell_type": "code",
   "execution_count": 4,
   "metadata": {},
   "outputs": [
    {
     "data": {
      "text/html": [
       "<div>\n",
       "<style scoped>\n",
       "    .dataframe tbody tr th:only-of-type {\n",
       "        vertical-align: middle;\n",
       "    }\n",
       "\n",
       "    .dataframe tbody tr th {\n",
       "        vertical-align: top;\n",
       "    }\n",
       "\n",
       "    .dataframe thead th {\n",
       "        text-align: right;\n",
       "    }\n",
       "</style>\n",
       "<table border=\"1\" class=\"dataframe\">\n",
       "  <thead>\n",
       "    <tr style=\"text-align: right;\">\n",
       "      <th></th>\n",
       "      <th>dispatching_base_num</th>\n",
       "      <th>pickup_datetime</th>\n",
       "      <th>dropOff_datetime</th>\n",
       "      <th>PUlocationID</th>\n",
       "      <th>DOlocationID</th>\n",
       "      <th>SR_Flag</th>\n",
       "      <th>Affiliated_base_number</th>\n",
       "    </tr>\n",
       "  </thead>\n",
       "  <tbody>\n",
       "    <tr>\n",
       "      <th>0</th>\n",
       "      <td>B00009</td>\n",
       "      <td>2019-10-01 00:23:00</td>\n",
       "      <td>2019-10-01 00:35:00</td>\n",
       "      <td>264.0</td>\n",
       "      <td>264.0</td>\n",
       "      <td>NaN</td>\n",
       "      <td>B00009</td>\n",
       "    </tr>\n",
       "    <tr>\n",
       "      <th>1</th>\n",
       "      <td>B00013</td>\n",
       "      <td>2019-10-01 00:11:29</td>\n",
       "      <td>2019-10-01 00:13:22</td>\n",
       "      <td>264.0</td>\n",
       "      <td>264.0</td>\n",
       "      <td>NaN</td>\n",
       "      <td>B00013</td>\n",
       "    </tr>\n",
       "    <tr>\n",
       "      <th>2</th>\n",
       "      <td>B00014</td>\n",
       "      <td>2019-10-01 00:11:43</td>\n",
       "      <td>2019-10-01 00:37:20</td>\n",
       "      <td>264.0</td>\n",
       "      <td>264.0</td>\n",
       "      <td>NaN</td>\n",
       "      <td>B00014</td>\n",
       "    </tr>\n",
       "    <tr>\n",
       "      <th>3</th>\n",
       "      <td>B00014</td>\n",
       "      <td>2019-10-01 00:56:29</td>\n",
       "      <td>2019-10-01 00:57:47</td>\n",
       "      <td>264.0</td>\n",
       "      <td>264.0</td>\n",
       "      <td>NaN</td>\n",
       "      <td>B00014</td>\n",
       "    </tr>\n",
       "    <tr>\n",
       "      <th>4</th>\n",
       "      <td>B00014</td>\n",
       "      <td>2019-10-01 00:23:09</td>\n",
       "      <td>2019-10-01 00:28:27</td>\n",
       "      <td>264.0</td>\n",
       "      <td>264.0</td>\n",
       "      <td>NaN</td>\n",
       "      <td>B00014</td>\n",
       "    </tr>\n",
       "  </tbody>\n",
       "</table>\n",
       "</div>"
      ],
      "text/plain": [
       "  dispatching_base_num      pickup_datetime     dropOff_datetime  \\\n",
       "0               B00009  2019-10-01 00:23:00  2019-10-01 00:35:00   \n",
       "1               B00013  2019-10-01 00:11:29  2019-10-01 00:13:22   \n",
       "2               B00014  2019-10-01 00:11:43  2019-10-01 00:37:20   \n",
       "3               B00014  2019-10-01 00:56:29  2019-10-01 00:57:47   \n",
       "4               B00014  2019-10-01 00:23:09  2019-10-01 00:28:27   \n",
       "\n",
       "   PUlocationID  DOlocationID  SR_Flag Affiliated_base_number  \n",
       "0         264.0         264.0      NaN                 B00009  \n",
       "1         264.0         264.0      NaN                 B00013  \n",
       "2         264.0         264.0      NaN                 B00014  \n",
       "3         264.0         264.0      NaN                 B00014  \n",
       "4         264.0         264.0      NaN                 B00014  "
      ]
     },
     "execution_count": 4,
     "metadata": {},
     "output_type": "execute_result"
    }
   ],
   "source": [
    "df_pandas.head()"
   ]
  },
  {
   "cell_type": "code",
   "execution_count": 5,
   "metadata": {},
   "outputs": [
    {
     "data": {
      "text/plain": [
       "StructType([StructField('dispatching_base_num', StringType(), True), StructField('pickup_datetime', StringType(), True), StructField('dropOff_datetime', StringType(), True), StructField('PUlocationID', DoubleType(), True), StructField('DOlocationID', DoubleType(), True), StructField('SR_Flag', DoubleType(), True), StructField('Affiliated_base_number', StringType(), True)])"
      ]
     },
     "execution_count": 5,
     "metadata": {},
     "output_type": "execute_result"
    }
   ],
   "source": [
    "spark.createDataFrame(df_pandas).schema"
   ]
  },
  {
   "cell_type": "code",
   "execution_count": 7,
   "metadata": {},
   "outputs": [],
   "source": [
    "fhv_schema = types.StructType([\n",
    "    types.StructField(\"dispatching_base_num\", types.StringType(), True),\n",
    "    types.StructField(\"pickup_datetime\", types.TimestampType(), True),\n",
    "    types.StructField(\"dropOff_datetime\", types.TimestampType(), True),\n",
    "    types.StructField(\"PULocationID\", types.IntegerType(), True),\n",
    "    types.StructField(\"DOLocationID\", types.IntegerType(), True),\n",
    "    types.StructField(\"SR_Flag\", types.StringType(), True),\n",
    "    types.StructField(\"Affiliated_base_number\", types.StringType(), True)\n",
    "])"
   ]
  },
  {
   "cell_type": "code",
   "execution_count": 9,
   "metadata": {},
   "outputs": [
    {
     "name": "stdout",
     "output_type": "stream",
     "text": [
      "processing data for 2019/10\n"
     ]
    },
    {
     "name": "stderr",
     "output_type": "stream",
     "text": [
      "                                                                                \r"
     ]
    }
   ],
   "source": [
    "year = 2019\n",
    "\n",
    "month = 10\n",
    "\n",
    "print(f'processing data for {year}/{month}')\n",
    "\n",
    "input_path = f'data/raw/fhv/{year}/{month:02d}/'\n",
    "output_path = f'data/pq/fhv/{year}/{month:02d}/'\n",
    "\n",
    "df_fhv = spark.read \\\n",
    "    .option(\"header\", \"true\") \\\n",
    "    .schema(fhv_schema) \\\n",
    "    .csv(input_path)\n",
    "\n",
    "df_fhv \\\n",
    "    .repartition(6) \\\n",
    "    .write.parquet(output_path, mode=\"overwrite\")"
   ]
  },
  {
   "cell_type": "code",
   "execution_count": 10,
   "id": "d7eb0da9",
   "metadata": {},
   "outputs": [
    {
     "name": "stdout",
     "output_type": "stream",
     "text": [
      "Found 6 files: ['data/pq/fhv/2019/10/part-00000-ce5a64df-a483-448d-8cc8-02522e6872d1-c000.snappy.parquet', 'data/pq/fhv/2019/10/part-00001-ce5a64df-a483-448d-8cc8-02522e6872d1-c000.snappy.parquet', 'data/pq/fhv/2019/10/part-00003-ce5a64df-a483-448d-8cc8-02522e6872d1-c000.snappy.parquet', 'data/pq/fhv/2019/10/part-00004-ce5a64df-a483-448d-8cc8-02522e6872d1-c000.snappy.parquet', 'data/pq/fhv/2019/10/part-00005-ce5a64df-a483-448d-8cc8-02522e6872d1-c000.snappy.parquet', 'data/pq/fhv/2019/10/part-00002-ce5a64df-a483-448d-8cc8-02522e6872d1-c000.snappy.parquet']\n",
      "The average size of the Parquet files is 6.354584693908691 MB\n"
     ]
    }
   ],
   "source": [
    "# List all files in the output directory\n",
    "files = glob.glob(os.path.join(output_path, \"*.parquet\"))\n",
    "print(f\"Found {len(files)} files: {files}\")\n",
    "\n",
    "# Calculate the total size of the files in MB\n",
    "total_size_mb = sum(os.path.getsize(f) for f in files) / (1024 * 1024)\n",
    "\n",
    "# Calculate the average size of the files\n",
    "avg_size_mb = total_size_mb / len(files)\n",
    "\n",
    "print(f\"The average size of the Parquet files is {avg_size_mb} MB\")"
   ]
  },
  {
   "cell_type": "code",
   "execution_count": 27,
   "metadata": {},
   "outputs": [
    {
     "name": "stdout",
     "output_type": "stream",
     "text": [
      "+--------------------+-------------------+-------------------+------------+------------+-------+----------------------+\n",
      "|dispatching_base_num|    pickup_datetime|   dropOff_datetime|PULocationID|DOLocationID|SR_Flag|Affiliated_base_number|\n",
      "+--------------------+-------------------+-------------------+------------+------------+-------+----------------------+\n",
      "|              B00009|2019-10-01 00:23:00|2019-10-01 00:35:00|         264|         264|   NULL|                B00009|\n",
      "|              B00013|2019-10-01 00:11:29|2019-10-01 00:13:22|         264|         264|   NULL|                B00013|\n",
      "|              B00014|2019-10-01 00:11:43|2019-10-01 00:37:20|         264|         264|   NULL|                B00014|\n",
      "|              B00014|2019-10-01 00:56:29|2019-10-01 00:57:47|         264|         264|   NULL|                B00014|\n",
      "|              B00014|2019-10-01 00:23:09|2019-10-01 00:28:27|         264|         264|   NULL|                B00014|\n",
      "+--------------------+-------------------+-------------------+------------+------------+-------+----------------------+\n",
      "only showing top 5 rows\n",
      "\n"
     ]
    }
   ],
   "source": [
    "df_fhv.show(5)"
   ]
  },
  {
   "cell_type": "code",
   "execution_count": 12,
   "metadata": {},
   "outputs": [
    {
     "name": "stderr",
     "output_type": "stream",
     "text": [
      "/opt/homebrew/Cellar/apache-spark/3.5.1/libexec/python/pyspark/sql/dataframe.py:329: FutureWarning: Deprecated in 2.0, use createOrReplaceTempView instead.\n",
      "  warnings.warn(\"Deprecated in 2.0, use createOrReplaceTempView instead.\", FutureWarning)\n"
     ]
    }
   ],
   "source": [
    "df_fhv.registerTempTable('trips_data')"
   ]
  },
  {
   "cell_type": "code",
   "execution_count": 14,
   "metadata": {},
   "outputs": [
    {
     "name": "stderr",
     "output_type": "stream",
     "text": [
      "[Stage 7:>                                                          (0 + 1) / 1]\r"
     ]
    },
    {
     "name": "stdout",
     "output_type": "stream",
     "text": [
      "+----------+\n",
      "|trip_count|\n",
      "+----------+\n",
      "|     62610|\n",
      "+----------+\n",
      "\n"
     ]
    },
    {
     "name": "stderr",
     "output_type": "stream",
     "text": [
      "                                                                                \r"
     ]
    }
   ],
   "source": [
    "result = spark.sql(\"\"\"\n",
    "SELECT\n",
    "    COUNT(*) AS trip_count\n",
    "FROM\n",
    "    trips_data\n",
    "WHERE\n",
    "    DATE(pickup_datetime) = '2019-10-15'\n",
    "\"\"\")\n",
    "\n",
    "result.show()"
   ]
  },
  {
   "cell_type": "code",
   "execution_count": 15,
   "metadata": {},
   "outputs": [
    {
     "name": "stderr",
     "output_type": "stream",
     "text": [
      "[Stage 10:>                                                         (0 + 1) / 1]\r"
     ]
    },
    {
     "name": "stdout",
     "output_type": "stream",
     "text": [
      "+------------------+\n",
      "|longest_trip_hours|\n",
      "+------------------+\n",
      "|     631152.500000|\n",
      "+------------------+\n",
      "\n"
     ]
    },
    {
     "name": "stderr",
     "output_type": "stream",
     "text": [
      "                                                                                \r"
     ]
    }
   ],
   "source": [
    "longest_trip = spark.sql(\"\"\"\n",
    "SELECT\n",
    "    MAX((unix_timestamp(dropOff_datetime) - unix_timestamp(pickup_datetime)) / 3600.0) AS longest_trip_hours\n",
    "FROM\n",
    "    trips_data\n",
    "\"\"\")\n",
    "\n",
    "longest_trip.show()\n"
   ]
  },
  {
   "cell_type": "code",
   "execution_count": 16,
   "metadata": {},
   "outputs": [],
   "source": [
    "df_zones = spark.read.parquet('zones/')"
   ]
  },
  {
   "cell_type": "code",
   "execution_count": 17,
   "metadata": {},
   "outputs": [
    {
     "name": "stdout",
     "output_type": "stream",
     "text": [
      "+----------+-------------+--------------------+------------+\n",
      "|LocationID|      Borough|                Zone|service_zone|\n",
      "+----------+-------------+--------------------+------------+\n",
      "|         1|          EWR|      Newark Airport|         EWR|\n",
      "|         2|       Queens|         Jamaica Bay|   Boro Zone|\n",
      "|         3|        Bronx|Allerton/Pelham G...|   Boro Zone|\n",
      "|         4|    Manhattan|       Alphabet City| Yellow Zone|\n",
      "|         5|Staten Island|       Arden Heights|   Boro Zone|\n",
      "+----------+-------------+--------------------+------------+\n",
      "only showing top 5 rows\n",
      "\n"
     ]
    }
   ],
   "source": [
    "df_zones.show(5)"
   ]
  },
  {
   "cell_type": "code",
   "execution_count": 18,
   "metadata": {},
   "outputs": [
    {
     "data": {
      "text/plain": [
       "StructType([StructField('LocationID', StringType(), True), StructField('Borough', StringType(), True), StructField('Zone', StringType(), True), StructField('service_zone', StringType(), True)])"
      ]
     },
     "execution_count": 18,
     "metadata": {},
     "output_type": "execute_result"
    }
   ],
   "source": [
    "df_zones.schema"
   ]
  },
  {
   "cell_type": "code",
   "execution_count": 19,
   "metadata": {},
   "outputs": [],
   "source": [
    "df_result = df_fhv.join(df_zones, df_fhv.PULocationID == df_zones.LocationID)"
   ]
  },
  {
   "cell_type": "code",
   "execution_count": 21,
   "metadata": {},
   "outputs": [
    {
     "name": "stdout",
     "output_type": "stream",
     "text": [
      "+--------------------+-------------------+-------------------+------------+------------+-------+----------------------+----------+---------+--------------------+------------+\n",
      "|dispatching_base_num|    pickup_datetime|   dropOff_datetime|PULocationID|DOLocationID|SR_Flag|Affiliated_base_number|LocationID|  Borough|                Zone|service_zone|\n",
      "+--------------------+-------------------+-------------------+------------+------------+-------+----------------------+----------+---------+--------------------+------------+\n",
      "|              B00009|2019-10-01 00:23:00|2019-10-01 00:35:00|         264|         264|   NULL|                B00009|       264|  Unknown|                  NV|         N/A|\n",
      "|              B00013|2019-10-01 00:11:29|2019-10-01 00:13:22|         264|         264|   NULL|                B00013|       264|  Unknown|                  NV|         N/A|\n",
      "|              B00014|2019-10-01 00:11:43|2019-10-01 00:37:20|         264|         264|   NULL|                B00014|       264|  Unknown|                  NV|         N/A|\n",
      "|              B00014|2019-10-01 00:56:29|2019-10-01 00:57:47|         264|         264|   NULL|                B00014|       264|  Unknown|                  NV|         N/A|\n",
      "|              B00014|2019-10-01 00:23:09|2019-10-01 00:28:27|         264|         264|   NULL|                B00014|       264|  Unknown|                  NV|         N/A|\n",
      "|     B00021         |2019-10-01 00:00:48|2019-10-01 00:07:12|         129|         129|   NULL|       B00021         |       129|   Queens|     Jackson Heights|   Boro Zone|\n",
      "|     B00021         |2019-10-01 00:47:23|2019-10-01 00:53:25|          57|          57|   NULL|       B00021         |        57|   Queens|              Corona|   Boro Zone|\n",
      "|     B00021         |2019-10-01 00:10:06|2019-10-01 00:19:50|         173|         173|   NULL|       B00021         |       173|   Queens|        North Corona|   Boro Zone|\n",
      "|     B00021         |2019-10-01 00:51:37|2019-10-01 01:06:14|         226|         226|   NULL|       B00021         |       226|   Queens|           Sunnyside|   Boro Zone|\n",
      "|     B00021         |2019-10-01 00:28:23|2019-10-01 00:34:33|          56|          56|   NULL|       B00021         |        56|   Queens|              Corona|   Boro Zone|\n",
      "|     B00021         |2019-10-01 00:31:17|2019-10-01 00:51:52|          82|          82|   NULL|       B00021         |        82|   Queens|            Elmhurst|   Boro Zone|\n",
      "|              B00037|2019-10-01 00:07:41|2019-10-01 00:15:23|         264|          71|   NULL|                B00037|       264|  Unknown|                  NV|         N/A|\n",
      "|              B00037|2019-10-01 00:13:38|2019-10-01 00:25:51|         264|          39|   NULL|                B00037|       264|  Unknown|                  NV|         N/A|\n",
      "|              B00037|2019-10-01 00:42:40|2019-10-01 00:53:47|         264|         188|   NULL|                B00037|       264|  Unknown|                  NV|         N/A|\n",
      "|              B00037|2019-10-01 00:58:46|2019-10-01 01:10:11|         264|          91|   NULL|                B00037|       264|  Unknown|                  NV|         N/A|\n",
      "|              B00037|2019-10-01 00:09:49|2019-10-01 00:14:37|         264|          71|   NULL|                B00037|       264|  Unknown|                  NV|         N/A|\n",
      "|              B00037|2019-10-01 00:22:35|2019-10-01 00:36:53|         264|          35|   NULL|                B00037|       264|  Unknown|                  NV|         N/A|\n",
      "|              B00037|2019-10-01 00:54:27|2019-10-01 01:03:37|         264|          61|   NULL|                B00037|       264|  Unknown|                  NV|         N/A|\n",
      "|              B00037|2019-10-01 00:08:12|2019-10-01 00:28:47|         264|         198|   NULL|                B00037|       264|  Unknown|                  NV|         N/A|\n",
      "|              B00053|2019-10-01 00:05:24|2019-10-01 00:53:03|         264|         264|   NULL|                  #N/A|       264|  Unknown|                  NV|         N/A|\n",
      "|              B00053|2019-10-01 00:03:32|2019-10-01 00:51:11|         264|         264|   NULL|                B00888|       264|  Unknown|                  NV|         N/A|\n",
      "|              B00053|2019-10-01 00:23:26|2019-10-01 00:41:13|         264|         264|   NULL|                B00053|       264|  Unknown|                  NV|         N/A|\n",
      "|              B00111|2019-10-01 00:47:58|2019-10-01 00:57:59|         264|          80|   NULL|                B00111|       264|  Unknown|                  NV|         N/A|\n",
      "|              B00111|2019-10-01 00:37:57|2019-10-01 01:06:06|         264|         244|   NULL|                B00111|       264|  Unknown|                  NV|         N/A|\n",
      "|              B00111|2019-10-01 00:15:59|2019-10-01 00:37:01|         264|         244|   NULL|                B00111|       264|  Unknown|                  NV|         N/A|\n",
      "|              B00111|2019-10-01 00:31:59|2019-10-01 00:56:59|         264|          51|   NULL|                B00111|       264|  Unknown|                  NV|         N/A|\n",
      "|              B00111|2019-10-01 00:27:59|2019-10-01 01:11:16|         264|         265|   NULL|                B00111|       264|  Unknown|                  NV|         N/A|\n",
      "|              B00160|2019-10-01 00:55:00|2019-10-01 00:59:00|         264|         264|   NULL|                B00160|       264|  Unknown|                  NV|         N/A|\n",
      "|              B00160|2019-10-01 00:13:00|2019-10-01 00:51:00|         264|         264|   NULL|                B00160|       264|  Unknown|                  NV|         N/A|\n",
      "|              B00160|2019-10-01 00:11:00|2019-10-01 00:26:00|         264|         264|   NULL|                B00160|       264|  Unknown|                  NV|         N/A|\n",
      "|              B00160|2019-10-01 00:55:00|2019-10-01 01:28:00|         264|         264|   NULL|                B00160|       264|  Unknown|                  NV|         N/A|\n",
      "|              B00225|2019-10-01 00:03:50|2019-10-01 00:09:38|         264|           4|   NULL|                B00225|       264|  Unknown|                  NV|         N/A|\n",
      "|              B00225|2019-10-01 00:28:50|2019-10-01 00:49:13|         264|          47|   NULL|                B00225|       264|  Unknown|                  NV|         N/A|\n",
      "|              B00225|2019-10-01 00:55:33|2019-10-01 01:03:42|         264|          45|   NULL|                B00225|       264|  Unknown|                  NV|         N/A|\n",
      "|              B00227|2019-10-01 00:39:00|2019-10-01 01:52:00|         264|         264|   NULL|                B00227|       264|  Unknown|                  NV|         N/A|\n",
      "|              B00227|2019-10-01 00:04:09|2019-10-01 00:50:00|         264|         264|   NULL|                B00227|       264|  Unknown|                  NV|         N/A|\n",
      "|              B00235|2019-10-01 00:07:50|2019-10-01 00:16:59|         264|         264|   NULL|                B00235|       264|  Unknown|                  NV|         N/A|\n",
      "|              B00254|2019-10-01 00:08:12|2019-10-01 00:38:01|         163|         225|   NULL|                B00254|       163|Manhattan|       Midtown North| Yellow Zone|\n",
      "|              B00254|2019-10-01 00:55:54|2019-10-01 01:02:28|         100|         233|   NULL|                B00254|       100|Manhattan|    Garment District| Yellow Zone|\n",
      "|              B00254|2019-10-01 00:04:14|2019-10-01 00:16:14|          13|         257|   NULL|                B00254|        13|Manhattan|   Battery Park City| Yellow Zone|\n",
      "|              B00254|2019-10-01 00:58:06|2019-10-01 01:06:49|          48|          24|   NULL|                B00254|        48|Manhattan|        Clinton East| Yellow Zone|\n",
      "|              B00254|2019-10-01 00:03:55|2019-10-01 00:36:09|         161|          53|   NULL|                B00254|       161|Manhattan|      Midtown Center| Yellow Zone|\n",
      "|              B00254|2019-10-01 00:52:52|2019-10-01 01:09:52|          13|         143|   NULL|                B00254|        13|Manhattan|   Battery Park City| Yellow Zone|\n",
      "|              B00254|2019-10-01 00:39:19|2019-10-01 00:48:40|         143|          68|   NULL|                B00254|       143|Manhattan| Lincoln Square West| Yellow Zone|\n",
      "|              B00254|2019-10-01 00:41:09|2019-10-01 01:17:42|         162|         265|   NULL|                B00254|       162|Manhattan|        Midtown East| Yellow Zone|\n",
      "|              B00254|2019-10-01 00:55:00|2019-10-01 01:16:27|         230|          17|   NULL|                B00254|       230|Manhattan|Times Sq/Theatre ...| Yellow Zone|\n",
      "|              B00254|2019-10-01 00:03:14|2019-10-01 00:41:39|         100|          91|   NULL|                B00254|       100|Manhattan|    Garment District| Yellow Zone|\n",
      "|              B00254|2019-10-01 00:31:20|2019-10-01 00:45:55|          13|         265|   NULL|                B00254|        13|Manhattan|   Battery Park City| Yellow Zone|\n",
      "|              B00254|2019-10-01 00:12:32|2019-10-01 01:02:02|         125|         265|   NULL|                B00254|       125|Manhattan|           Hudson Sq| Yellow Zone|\n",
      "|              B00254|2019-10-01 00:04:04|2019-10-01 00:18:32|         161|         236|   NULL|                B00254|       161|Manhattan|      Midtown Center| Yellow Zone|\n",
      "|              B00254|2019-10-01 00:49:14|2019-10-01 01:27:05|          13|         265|   NULL|                B00254|        13|Manhattan|   Battery Park City| Yellow Zone|\n",
      "|              B00254|2019-10-01 00:47:35|2019-10-01 01:23:59|          13|          36|   NULL|                B00254|        13|Manhattan|   Battery Park City| Yellow Zone|\n",
      "|              B00254|2019-10-01 00:25:59|2019-10-01 01:01:44|         161|         210|   NULL|                B00254|       161|Manhattan|      Midtown Center| Yellow Zone|\n",
      "|              B00254|2019-10-01 00:19:29|2019-10-01 00:45:59|         132|         141|   NULL|                B00254|       132|   Queens|         JFK Airport|    Airports|\n",
      "|              B00256|2019-10-01 00:40:21|2019-10-01 01:10:31|         264|         264|   NULL|                B00256|       264|  Unknown|                  NV|         N/A|\n",
      "|              B00256|2019-10-01 00:51:13|2019-10-01 01:16:32|         264|         264|   NULL|                B00256|       264|  Unknown|                  NV|         N/A|\n",
      "|              B00256|2019-10-01 00:05:46|2019-10-01 01:12:30|         264|         264|   NULL|                B00256|       264|  Unknown|                  NV|         N/A|\n",
      "|              B00256|2019-10-01 00:10:25|2019-10-01 00:51:33|         264|         264|   NULL|                B00256|       264|  Unknown|                  NV|         N/A|\n",
      "|              B00256|2019-10-01 00:02:48|2019-10-01 00:39:57|         264|         264|   NULL|                B02759|       264|  Unknown|                  NV|         N/A|\n",
      "|              B00271|2019-10-01 00:38:32|2019-10-01 00:50:27|         264|         265|   NULL|                B00271|       264|  Unknown|                  NV|         N/A|\n",
      "|              B00271|2019-10-01 00:14:01|2019-10-01 00:57:36|         264|         265|   NULL|                B00271|       264|  Unknown|                  NV|         N/A|\n",
      "|              B00271|2019-10-01 00:00:44|2019-10-01 00:34:11|         264|         174|   NULL|                B00271|       264|  Unknown|                  NV|         N/A|\n",
      "|              B00271|2019-10-01 00:15:29|2019-10-01 00:32:50|         264|         152|   NULL|                B00271|       264|  Unknown|                  NV|         N/A|\n",
      "|              B00271|2019-10-01 00:22:30|2019-10-01 00:32:51|         264|         145|   NULL|                B02617|       264|  Unknown|                  NV|         N/A|\n",
      "|              B00271|2019-10-01 00:12:02|2019-10-01 00:16:46|         264|          48|   NULL|                B00271|       264|  Unknown|                  NV|         N/A|\n",
      "|              B00271|2019-10-01 00:01:35|2019-10-01 00:31:09|         264|          14|   NULL|                B00271|       264|  Unknown|                  NV|         N/A|\n",
      "|              B00271|2019-10-01 00:08:13|2019-10-01 00:09:13|         264|         161|   NULL|                B00271|       264|  Unknown|                  NV|         N/A|\n",
      "|              B00271|2019-10-01 00:59:22|2019-10-01 01:05:48|         264|         233|   NULL|                B02880|       264|  Unknown|                  NV|         N/A|\n",
      "|              B00271|2019-10-01 00:00:25|2019-10-01 00:32:49|         264|         182|   NULL|                B00271|       264|  Unknown|                  NV|         N/A|\n",
      "|              B00271|2019-10-01 00:12:23|2019-10-01 00:13:35|         264|         161|   NULL|                B00271|       264|  Unknown|                  NV|         N/A|\n",
      "|              B00271|2019-10-01 00:19:59|2019-10-01 00:48:48|         264|         265|   NULL|                B00271|       264|  Unknown|                  NV|         N/A|\n",
      "|              B00271|2019-10-01 00:05:15|2019-10-01 00:05:33|         264|          88|   NULL|                B00271|       264|  Unknown|                  NV|         N/A|\n",
      "|              B00271|2019-10-01 00:11:01|2019-10-01 00:30:24|         264|         265|   NULL|                B00271|       264|  Unknown|                  NV|         N/A|\n",
      "|              B00272|2019-10-01 00:30:00|2019-10-01 01:05:00|         264|         264|   NULL|                B00272|       264|  Unknown|                  NV|         N/A|\n",
      "|              B00272|2019-10-01 00:09:37|2019-10-01 01:13:00|         264|         264|   NULL|                B00272|       264|  Unknown|                  NV|         N/A|\n",
      "|              B00277|2019-10-01 00:19:37|2019-10-01 00:45:40|         264|         264|   NULL|                B00277|       264|  Unknown|                  NV|         N/A|\n",
      "|              B00280|2019-10-01 00:06:04|2019-10-01 00:53:43|         264|         264|   NULL|                B00280|       264|  Unknown|                  NV|         N/A|\n",
      "|              B00280|2019-10-01 00:12:20|2019-10-01 00:59:59|         264|         264|   NULL|                B00280|       264|  Unknown|                  NV|         N/A|\n",
      "|              B00280|2019-10-01 00:51:58|2019-10-01 01:20:48|         264|         264|   NULL|                B00280|       264|  Unknown|                  NV|         N/A|\n",
      "|              B00296|2019-10-01 00:58:49|2019-10-01 01:04:31|         264|         264|   NULL|                B00296|       264|  Unknown|                  NV|         N/A|\n",
      "|              B00296|2019-10-01 00:26:36|2019-10-01 01:10:07|         264|         264|   NULL|                B00296|       264|  Unknown|                  NV|         N/A|\n",
      "|              B00296|2019-10-01 00:26:16|2019-10-01 01:17:44|         264|         264|   NULL|                B00296|       264|  Unknown|                  NV|         N/A|\n",
      "|              B00310|2019-10-01 00:11:22|2019-10-01 00:22:56|         264|          69|   NULL|                B02864|       264|  Unknown|                  NV|         N/A|\n",
      "|              B00310|2019-10-01 00:32:09|2019-10-01 01:08:38|         264|         243|   NULL|                B00310|       264|  Unknown|                  NV|         N/A|\n",
      "|              B00310|2019-10-01 00:28:23|2019-10-01 00:33:43|         264|         212|   NULL|                B02864|       264|  Unknown|                  NV|         N/A|\n",
      "|              B00310|2019-10-01 00:14:55|2019-10-01 00:20:30|         264|         126|   NULL|                B02836|       264|  Unknown|                  NV|         N/A|\n",
      "|              B00310|2019-10-01 00:56:30|2019-10-01 01:02:52|         264|         126|   NULL|                B00310|       264|  Unknown|                  NV|         N/A|\n",
      "|              B00310|2019-10-01 00:03:38|2019-10-01 00:26:00|         264|         247|   NULL|                B02887|       264|  Unknown|                  NV|         N/A|\n",
      "|              B00310|2019-10-01 00:57:49|2019-10-01 01:03:55|         264|         168|   NULL|                B02887|       264|  Unknown|                  NV|         N/A|\n",
      "|              B00310|2019-10-01 00:36:57|2019-10-01 00:59:03|         264|          18|   NULL|                B00310|       264|  Unknown|                  NV|         N/A|\n",
      "|              B00310|2019-10-01 00:58:05|2019-10-01 01:12:54|         264|         147|   NULL|                B00310|       264|  Unknown|                  NV|         N/A|\n",
      "|              B00310|2019-10-01 00:18:10|2019-10-01 00:26:24|         264|         242|   NULL|                B00310|       264|  Unknown|                  NV|         N/A|\n",
      "|              B00310|2019-10-01 00:48:02|2019-10-01 00:53:41|         264|         248|   NULL|                B02889|       264|  Unknown|                  NV|         N/A|\n",
      "|              B00310|2019-10-01 00:36:49|2019-10-01 00:41:40|         264|         213|   NULL|                B02864|       264|  Unknown|                  NV|         N/A|\n",
      "|              B00310|2019-10-01 00:12:11|2019-10-01 00:28:41|         264|         254|   NULL|                B00310|       264|  Unknown|                  NV|         N/A|\n",
      "|              B00310|2019-10-01 00:06:02|2019-10-01 00:14:04|         264|         242|   NULL|                B00310|       264|  Unknown|                  NV|         N/A|\n",
      "|              B00310|2019-10-01 00:03:43|2019-10-01 00:07:26|         264|         213|   NULL|                B02534|       264|  Unknown|                  NV|         N/A|\n",
      "|              B00310|2019-10-01 00:37:14|2019-10-01 00:51:58|         264|         241|   NULL|                B02879|       264|  Unknown|                  NV|         N/A|\n",
      "|              B00310|2019-10-01 00:42:41|2019-10-01 00:54:42|         264|         213|   NULL|                B02875|       264|  Unknown|                  NV|         N/A|\n",
      "|              B00310|2019-10-01 00:15:57|2019-10-01 00:18:27|         264|         147|   NULL|                B02879|       264|  Unknown|                  NV|         N/A|\n",
      "+--------------------+-------------------+-------------------+------------+------------+-------+----------------------+----------+---------+--------------------+------------+\n",
      "only showing top 100 rows\n",
      "\n"
     ]
    }
   ],
   "source": [
    "df_result.show(100)"
   ]
  },
  {
   "cell_type": "code",
   "execution_count": 22,
   "metadata": {},
   "outputs": [
    {
     "name": "stderr",
     "output_type": "stream",
     "text": [
      "/opt/homebrew/Cellar/apache-spark/3.5.1/libexec/python/pyspark/sql/dataframe.py:329: FutureWarning: Deprecated in 2.0, use createOrReplaceTempView instead.\n",
      "  warnings.warn(\"Deprecated in 2.0, use createOrReplaceTempView instead.\", FutureWarning)\n"
     ]
    }
   ],
   "source": [
    "df_result.registerTempTable('joined_fhv_zones')"
   ]
  },
  {
   "cell_type": "code",
   "execution_count": 26,
   "metadata": {},
   "outputs": [
    {
     "name": "stderr",
     "output_type": "stream",
     "text": [
      "[Stage 32:>                                                         (0 + 1) / 1]\r"
     ]
    },
    {
     "name": "stdout",
     "output_type": "stream",
     "text": [
      "+-----------+------------+\n",
      "|       Zone|pickup_count|\n",
      "+-----------+------------+\n",
      "|Jamaica Bay|           1|\n",
      "+-----------+------------+\n",
      "\n"
     ]
    },
    {
     "name": "stderr",
     "output_type": "stream",
     "text": [
      "                                                                                \r"
     ]
    }
   ],
   "source": [
    "least_frequent_pickup_zone_query = \"\"\"\n",
    "SELECT Zone, COUNT(*) as pickup_count\n",
    "FROM joined_fhv_zones\n",
    "GROUP BY Zone\n",
    "ORDER BY pickup_count ASC\n",
    "LIMIT 1\n",
    "\"\"\"\n",
    "\n",
    "least_frequent_pickup_zone = spark.sql(least_frequent_pickup_zone_query)\n",
    "least_frequent_pickup_zone.show()\n"
   ]
  },
  {
   "cell_type": "code",
   "execution_count": null,
   "metadata": {},
   "outputs": [],
   "source": []
  }
 ],
 "metadata": {
  "kernelspec": {
   "display_name": "Python 3 (ipykernel)",
   "language": "python",
   "name": "python3"
  },
  "language_info": {
   "codemirror_mode": {
    "name": "ipython",
    "version": 3
   },
   "file_extension": ".py",
   "mimetype": "text/x-python",
   "name": "python",
   "nbconvert_exporter": "python",
   "pygments_lexer": "ipython3",
   "version": "3.9.6"
  }
 },
 "nbformat": 4,
 "nbformat_minor": 5
}
